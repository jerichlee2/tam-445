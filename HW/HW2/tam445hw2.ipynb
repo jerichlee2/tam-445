{
 "cells": [
  {
   "cell_type": "code",
   "execution_count": 2,
   "metadata": {},
   "outputs": [],
   "source": [
    "from sympy import *\n",
    "import numpy as np"
   ]
  },
  {
   "cell_type": "code",
   "execution_count": 8,
   "metadata": {},
   "outputs": [
    {
     "name": "stdout",
     "output_type": "stream",
     "text": [
      "Matrix([[200], [250], [300]])\n"
     ]
    }
   ],
   "source": [
    "v = Matrix([[1],\n",
    "            [2],\n",
    "            [3]])\n",
    "\n",
    "u = Matrix([[4],\n",
    "            [5],\n",
    "            [6]])\n",
    "\n",
    "w = Matrix([[7],\n",
    "            [8],\n",
    "            [9]])\n",
    "\n",
    "one = (v.dot(w))*u\n",
    "\n",
    "two = (u.dot(w))*v\n",
    "\n",
    "print(one)"
   ]
  },
  {
   "cell_type": "code",
   "execution_count": null,
   "metadata": {},
   "outputs": [],
   "source": []
  }
 ],
 "metadata": {
  "kernelspec": {
   "display_name": "Python 3",
   "language": "python",
   "name": "python3"
  },
  "language_info": {
   "codemirror_mode": {
    "name": "ipython",
    "version": 3
   },
   "file_extension": ".py",
   "mimetype": "text/x-python",
   "name": "python",
   "nbconvert_exporter": "python",
   "pygments_lexer": "ipython3",
   "version": "3.11.5"
  }
 },
 "nbformat": 4,
 "nbformat_minor": 2
}
