{
 "cells": [
  {
   "cell_type": "code",
   "execution_count": 5,
   "metadata": {},
   "outputs": [
    {
     "data": {
      "text/latex": [
       "$\\displaystyle \\left[\\begin{matrix}0.999849 & 0 & -0.000151000000000068\\\\0 & 0.999698 & 0\\\\-0.000151000000000068 & 0 & 0.999849\\end{matrix}\\right]$"
      ],
      "text/plain": [
       "Matrix([\n",
       "[             0.999849,        0, -0.000151000000000068],\n",
       "[                    0, 0.999698,                     0],\n",
       "[-0.000151000000000068,        0,              0.999849]])"
      ]
     },
     "metadata": {},
     "output_type": "display_data"
    },
    {
     "data": {
      "text/latex": [
       "$\\displaystyle \\left[\\begin{matrix}-2.207\\\\-0.707\\\\0.793\\end{matrix}\\right]$"
      ],
      "text/plain": [
       "Matrix([\n",
       "[-2.207],\n",
       "[-0.707],\n",
       "[ 0.793]])"
      ]
     },
     "metadata": {},
     "output_type": "display_data"
    },
    {
     "data": {
      "text/latex": [
       "$\\displaystyle \\left[\\begin{matrix}-0.5 & -1.0 & -0.707\\\\0.707 & -1.414 & 0\\\\0.5 & 1.0 & -0.707\\end{matrix}\\right]$"
      ],
      "text/plain": [
       "Matrix([\n",
       "[ -0.5,   -1.0, -0.707],\n",
       "[0.707, -1.414,      0],\n",
       "[  0.5,    1.0, -0.707]])"
      ]
     },
     "metadata": {},
     "output_type": "display_data"
    },
    {
     "data": {
      "text/latex": [
       "$\\displaystyle 2$"
      ],
      "text/plain": [
       "2"
      ]
     },
     "execution_count": 5,
     "metadata": {},
     "output_type": "execute_result"
    }
   ],
   "source": [
    "from sympy import *\n",
    "A = Matrix([[-.5,-.5,.707],\n",
    "            [.707,-.707,0],\n",
    "            [.5,.5,.707]])\n",
    "\n",
    "B = A.transpose()\n",
    "\n",
    "display(A*B)\n",
    "\n",
    "x = Matrix([[1],\n",
    "            [2],\n",
    "            [-1]])\n",
    "\n",
    "transformed = A*x\n",
    "display(transformed)\n",
    "det(A)\n",
    "\n",
    "T = Matrix([[1,0,0],\n",
    "           [0,2,0],\n",
    "           [0,0,-1]])\n",
    "\n",
    "Ttrans = A*T\n",
    "\n",
    "display(Ttrans)\n",
    "det(Ttrans)\n",
    "trace(T)"
   ]
  },
  {
   "cell_type": "code",
   "execution_count": 7,
   "metadata": {},
   "outputs": [
    {
     "data": {
      "text/latex": [
       "$\\displaystyle \\left[\\begin{matrix}0.408248290463863\\\\0.408248290463863\\\\0.816496580927726\\end{matrix}\\right]$"
      ],
      "text/plain": [
       "Matrix([\n",
       "[0.408248290463863],\n",
       "[0.408248290463863],\n",
       "[0.816496580927726]])"
      ]
     },
     "execution_count": 7,
     "metadata": {},
     "output_type": "execute_result"
    }
   ],
   "source": [
    "nlist = [1/sqrt(6),1/sqrt(6),2/sqrt(6)]\n",
    "\n",
    "n = Matrix([[nlist[0]],\n",
    "           [nlist[1]],\n",
    "           [nlist[2]]])\n",
    "\n",
    "W = Matrix([[0,-nlist[2],nlist[1]],\n",
    "            [nlist[2],0,-nlist[0]],\n",
    "            [-nlist[1],nlist[0],0]])\n",
    "\n",
    "theta = 30*(pi/180)\n",
    "\n",
    "I = Matrix([[1,0,0],\n",
    "            [0,1,0],\n",
    "            [0,0,1]])\n",
    "\n",
    "R = I+(sin(theta))*W+(1-cos(theta))*W*W\n",
    "N(R)\n",
    "N(R*n)\n",
    "# I can hear the music."
   ]
  },
  {
   "cell_type": "code",
   "execution_count": null,
   "metadata": {},
   "outputs": [],
   "source": []
  }
 ],
 "metadata": {
  "kernelspec": {
   "display_name": "base",
   "language": "python",
   "name": "python3"
  },
  "language_info": {
   "codemirror_mode": {
    "name": "ipython",
    "version": 3
   },
   "file_extension": ".py",
   "mimetype": "text/x-python",
   "name": "python",
   "nbconvert_exporter": "python",
   "pygments_lexer": "ipython3",
   "version": "3.11.5"
  }
 },
 "nbformat": 4,
 "nbformat_minor": 2
}
