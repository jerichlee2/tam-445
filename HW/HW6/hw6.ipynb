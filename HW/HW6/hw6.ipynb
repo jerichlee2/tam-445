{
 "cells": [
  {
   "cell_type": "code",
   "execution_count": 2,
   "metadata": {},
   "outputs": [
    {
     "data": {
      "text/latex": [
       "$\\displaystyle r \\left(p_{2} + r\\right) \\cos^{2}{\\left(\\frac{p_{1}}{r} \\right)} - \\frac{\\left(- p_{2} - r\\right) \\sin^{2}{\\left(\\frac{p_{1}}{r} \\right)}}{r}$"
      ],
      "text/plain": [
       "r*(p2 + r)*cos(p1/r)**2 - (-p2 - r)*sin(p1/r)**2/r"
      ]
     },
     "execution_count": 2,
     "metadata": {},
     "output_type": "execute_result"
    }
   ],
   "source": [
    "from sympy import *\n",
    "\n",
    "p1, p2, p3, r = symbols('p1, p2, p3, r')\n",
    "\n",
    "detF = -((-p2 - r)*sin(p1/r))/r*sin(p1/r) + (r*((p2 + r)*cos(p1/r)))*(1 - (1 - cos(p1/r)))\n",
    "\n",
    "detF"
   ]
  },
  {
   "cell_type": "code",
   "execution_count": 59,
   "metadata": {},
   "outputs": [
    {
     "data": {
      "text/latex": [
       "$\\displaystyle \\left[\\begin{matrix}0 & h l \\cos{\\left(\\frac{uy}{r} \\right)} & - h l \\sin{\\left(\\frac{uy}{r} \\right)}\\end{matrix}\\right]$"
      ],
      "text/plain": [
       "Matrix([[0, h*l*cos(uy/r), -h*l*sin(uy/r)]])"
      ]
     },
     "execution_count": 59,
     "metadata": {},
     "output_type": "execute_result"
    }
   ],
   "source": [
    "from sympy import *\n",
    "\n",
    "def deform(a):\n",
    "    x = Matrix([[a[0], (a[2]+r)*sin(a[1]/r),a[2]-(a[2]-r)*(1-cos(a[1]/r))]])\n",
    "    return x\n",
    "\n",
    "def mag(a):\n",
    "    x = sqrt(a[0]**2+a[1]**2+a[2]**2)\n",
    "    return x\n",
    "\n",
    "def reference_plane(u, v, w):\n",
    "    m = v-u\n",
    "    n = w-v\n",
    "\n",
    "    S = m.cross(n)\n",
    "    return S\n",
    "\n",
    "def deformed_plane(u, v, w):\n",
    "    mp = deform(v)-deform(u)\n",
    "    np = deform(w)-deform(v)\n",
    "\n",
    "    Sp = (mp.cross(np))\n",
    "\n",
    "    return Sp\n",
    "\n",
    "l, h, r = symbols('l, h, r')\n",
    "ux, uy, uz = symbols('ux, uy, uz')\n",
    "vx, vy, vz = symbols('vx, vy, vz')\n",
    "wx, wy, wz = symbols('wx, wy, wz')\n",
    "\n",
    "u = Matrix([[0, l, h/2]])\n",
    "v = Matrix([[0, l, -h/2]])\n",
    "\n",
    "w = Matrix([[-l, l, -h/2]])\n",
    "\n",
    "uX = Matrix([[0, uy, h/2]])\n",
    "vX = Matrix([[0, uy, -h/2]])\n",
    "wX = Matrix([[-l, uy, -h/2]])\n",
    "\n",
    "\n",
    "S=reference_plane(uX,vX,wX)\n",
    "Sp=deformed_plane(uX,vX,wX)\n",
    "theta = acos(S.dot(Sp)/(mag(S)*mag(Sp)))\n",
    "simplify(theta)\n",
    "simplify(Sp)\n",
    "\n",
    "\n"
   ]
  },
  {
   "cell_type": "markdown",
   "metadata": {},
   "source": []
  },
  {
   "cell_type": "code",
   "execution_count": 65,
   "metadata": {},
   "outputs": [
    {
     "data": {
      "text/latex": [
       "$\\displaystyle \\left\\{ ix : \\frac{I}{k + 1}, \\  vx : \\frac{I r_{3}}{k + 1}, \\  vy : \\frac{- I k r_{1} + I r_{3}}{k + 1}\\right\\}$"
      ],
      "text/plain": [
       "{ix: I/(k + 1), vx: I*r3/(k + 1), vy: (-I*k*r1 + I*r3)/(k + 1)}"
      ]
     },
     "execution_count": 65,
     "metadata": {},
     "output_type": "execute_result"
    }
   ],
   "source": [
    "vx,vy,ix,I, r1, r2, r3,k = symbols('vx,vy,ix, I, r1, r1, r3,k')\n",
    "\n",
    "eq1 = Eq(-I+ix+(vx-vy)/r2,0)\n",
    "eq2 =Eq((vy-vx)/r2+k*ix,0)\n",
    "eq3 = Eq(ix,vx/r3)\n",
    "\n",
    "soln = solve((eq1,eq2,eq3),(vx,vy,ix))\n",
    "\n",
    "simplify(soln)"
   ]
  },
  {
   "cell_type": "code",
   "execution_count": 83,
   "metadata": {},
   "outputs": [
    {
     "name": "stdout",
     "output_type": "stream",
     "text": [
      "True\n",
      "\n"
     ]
    }
   ],
   "source": [
    "va, ix, r1, r2, vin, I = symbols('va, ix, r1, r2, vin, I')\n",
    "\n",
    "eq1 = Eq((va-vin)/r1-I+(va-k*ix)/r2,0)\n",
    "eq2 = Eq(ix, (vin-va)/r1)\n",
    "\n",
    "soln = solve((eq1, eq2),(va,ix))\n",
    "\n",
    "exp = simplify(soln)\n",
    "\n",
    "eq3 = Eq(vin-k*ix,ix*r1+(ix+I)*r2)\n",
    "\n",
    "soln2 = solve(eq3, ix)\n",
    "print(exp[ix]==soln2[0])\n"
   ]
  },
  {
   "cell_type": "code",
   "execution_count": 88,
   "metadata": {},
   "outputs": [
    {
     "data": {
      "text/latex": [
       "$\\displaystyle \\frac{r_{1} r_{3} + r_{2} \\left(r_{1} + r_{3}\\right)}{L \\left(r_{1} + r_{3}\\right)}$"
      ],
      "text/plain": [
       "(r1*r3 + r2*(r1 + r3))/(L*(r1 + r3))"
      ]
     },
     "execution_count": 88,
     "metadata": {},
     "output_type": "execute_result"
    }
   ],
   "source": [
    "i, i1, i2, il, r1, r2, r3, r4, vin, L = symbols('i, i1, i2, il, r1, r2, r3, r4, vin, L')\n",
    "\n",
    "eq1 = Eq(i-i1-i2,il)\n",
    "eq2 = Eq(vin, r1*i+r3*i1)\n",
    "eq3 = Eq((i-i1)*r2+i2*r4-i1*r3,0)\n",
    "eq4 = Eq(-i2*r4,0)\n",
    "\n",
    "soln = solve((eq1, eq2, eq3, eq4), (i, i1, i2, il))\n",
    "simplify(soln)\n",
    "\n",
    "simplify((((1/r1)+(1/r3))**-1+r2)/L)\n"
   ]
  },
  {
   "cell_type": "code",
   "execution_count": 93,
   "metadata": {},
   "outputs": [
    {
     "data": {
      "text/latex": [
       "$\\displaystyle \\frac{I r_{1} r_{5}}{r_{1} + r_{2} + r_{4} + r_{5}}$"
      ],
      "text/plain": [
       "I*r1*r5/(r1 + r2 + r4 + r5)"
      ]
     },
     "execution_count": 93,
     "metadata": {},
     "output_type": "execute_result"
    }
   ],
   "source": [
    "va, I, r1, r2, r3, r4, r5 = symbols('va, I, r1, r2, r3, r4, r5')\n",
    "\n",
    "eq1 = Eq((va-I*r1)/(r1+r2+r4)+va/r5, 0)\n",
    "\n",
    "soln = solve(eq1, va)\n",
    "\n",
    "simplify(soln[0])"
   ]
  },
  {
   "cell_type": "code",
   "execution_count": 5,
   "metadata": {},
   "outputs": [
    {
     "data": {
      "text/latex": [
       "$\\displaystyle \\left\\{ i : \\frac{I r_{1} r_{3} + I r_{1} r_{4} + I r_{1} r_{5}}{r_{1} r_{3} + r_{1} r_{4} + r_{1} r_{5} + r_{2} r_{3} + r_{2} r_{4} + r_{2} r_{5} + r_{3} r_{4} + r_{3} r_{5}}, \\  i_{1} : \\frac{I r_{1} r_{3}}{r_{1} r_{3} + r_{1} r_{4} + r_{1} r_{5} + r_{2} r_{3} + r_{2} r_{4} + r_{2} r_{5} + r_{3} r_{4} + r_{3} r_{5}}, \\  i_{2} : \\frac{I r_{1} r_{3}}{r_{1} r_{3} + r_{1} r_{4} + r_{1} r_{5} + r_{2} r_{3} + r_{2} r_{4} + r_{2} r_{5} + r_{3} r_{4} + r_{3} r_{5}}, \\  v : \\frac{I r_{1} r_{3} r_{5}}{r_{1} r_{3} + r_{1} r_{4} + r_{1} r_{5} + r_{2} r_{3} + r_{2} r_{4} + r_{2} r_{5} + r_{3} r_{4} + r_{3} r_{5}}\\right\\}$"
      ],
      "text/plain": [
       "{i: (I*r1*r3 + I*r1*r4 + I*r1*r5)/(r1*r3 + r1*r4 + r1*r5 + r2*r3 + r2*r4 + r2*r5 + r3*r4 + r3*r5), i1: I*r1*r3/(r1*r3 + r1*r4 + r1*r5 + r2*r3 + r2*r4 + r2*r5 + r3*r4 + r3*r5), i2: I*r1*r3/(r1*r3 + r1*r4 + r1*r5 + r2*r3 + r2*r4 + r2*r5 + r3*r4 + r3*r5), v: I*r1*r3*r5/(r1*r3 + r1*r4 + r1*r5 + r2*r3 + r2*r4 + r2*r5 + r3*r4 + r3*r5)}"
      ]
     },
     "execution_count": 5,
     "metadata": {},
     "output_type": "execute_result"
    }
   ],
   "source": [
    "from sympy import *\n",
    "v, i, i1, i2, I, r1, r2, r3, r4, r5 = symbols('v, i, i1, i2, I, r1, r2, r3, r4, r5')\n",
    "\n",
    "eq1 = Eq(I*r1,(r1+r2)*i+r4*i1+r5*i2)\n",
    "eq2 = Eq(I*r1,(r1+r2)*i+r3*(i-i1))\n",
    "eq3 = Eq(v+I*r1,(r1+r2)*i+r3*(i-i1)+i2*r5)\n",
    "eq4 = Eq(v,(i-i1)*r3-r4*i1)\n",
    "eq5 = Eq(i1,i2)\n",
    "\n",
    "soln = solve((eq1, eq2, eq3, eq4, eq5), (v, i, i1, i2))\n",
    "simplify(soln)\n"
   ]
  },
  {
   "cell_type": "code",
   "execution_count": 50,
   "metadata": {},
   "outputs": [
    {
     "ename": "NameError",
     "evalue": "name 'vin' is not defined",
     "output_type": "error",
     "traceback": [
      "\u001b[0;31m---------------------------------------------------------------------------\u001b[0m",
      "\u001b[0;31mNameError\u001b[0m                                 Traceback (most recent call last)",
      "Cell \u001b[0;32mIn[50], line 4\u001b[0m\n\u001b[1;32m      1\u001b[0m \u001b[38;5;28;01mfrom\u001b[39;00m \u001b[38;5;21;01msympy\u001b[39;00m \u001b[38;5;28;01mimport\u001b[39;00m \u001b[38;5;241m*\u001b[39m\n\u001b[1;32m      2\u001b[0m v, i, i1, i2, I, r1, r2, r3, r4, r5 \u001b[38;5;241m=\u001b[39m symbols(\u001b[38;5;124m'\u001b[39m\u001b[38;5;124mv, i, i1, i2, I, r1, r2, r3, r4, r5\u001b[39m\u001b[38;5;124m'\u001b[39m)\n\u001b[0;32m----> 4\u001b[0m eq1 \u001b[38;5;241m=\u001b[39m Eq(\u001b[43mvin\u001b[49m,i\u001b[38;5;241m*\u001b[39mr1\u001b[38;5;241m+\u001b[39m(i\u001b[38;5;241m-\u001b[39mi1)\u001b[38;5;241m*\u001b[39mr4)\n\u001b[1;32m      7\u001b[0m soln \u001b[38;5;241m=\u001b[39m solve((eq1, eq2, eq3, eq4, eq5), (v, i, i1, i2))\n\u001b[1;32m      8\u001b[0m simplify(soln)\n",
      "\u001b[0;31mNameError\u001b[0m: name 'vin' is not defined"
     ]
    }
   ],
   "source": [
    "from sympy import *\n",
    "v, i, i1, i2, I, r1, r2, r3, r4, r5 = symbols('v, i, i1, i2, I, r1, r2, r3, r4, r5')\n",
    "\n",
    "eq1 = Eq(vin,i*r1+(i-i1)*r4)\n",
    "\n",
    "\n",
    "soln = solve((eq1, eq2, eq3, eq4, eq5), (v, i, i1, i2))\n",
    "simplify(soln)\n"
   ]
  },
  {
   "cell_type": "code",
   "execution_count": 67,
   "metadata": {},
   "outputs": [
    {
     "data": {
      "text/latex": [
       "$\\displaystyle \\mathbf{\\hat{0}}$"
      ],
      "text/plain": [
       "0"
      ]
     },
     "execution_count": 67,
     "metadata": {},
     "output_type": "execute_result"
    }
   ],
   "source": [
    "from sympy import *\n",
    "from sympy.vector import CoordSys3D, gradient\n",
    "\n",
    "\n",
    "def deform(a):\n",
    "    x = Matrix([[a[0], (a[2]+r)*sin(a[1]/r), a[2]-(a[2]-r)*(1-cos(a[1]/r))]])\n",
    "    return x\n",
    "\n",
    "def mag(a):\n",
    "    x = sqrt(a[0]**2+a[1]**2+a[2]**2)\n",
    "    return x\n",
    "\n",
    "def reference_plane(u, v, w):\n",
    "    m = v-u\n",
    "    n = w-v\n",
    "\n",
    "    S = m.cross(n)\n",
    "    return S\n",
    "\n",
    "def deformed_plane(u, v, w):\n",
    "    mp = deform(v)-deform(u)\n",
    "    np = deform(w)-deform(v)\n",
    "\n",
    "    Sp = (mp.cross(np))\n",
    "\n",
    "    return Sp\n",
    "\n",
    "\n",
    "l, h, r = symbols('l, h, r')\n",
    "ux, uy, uz = symbols('ux, uy, uz')\n",
    "vx, vy, vz = symbols('vx, vy, vz')\n",
    "wx, wy, wz = symbols('wx, wy, wz')\n",
    "px, py, pz = symbols('px, py, pz')\n",
    "p = Matrix([[px, py, pz]])\n",
    "\n",
    "u = Matrix([[0, l, 0]])\n",
    "v = Matrix([[-l, 0, 0]])\n",
    "\n",
    "\n",
    "S = Matrix([[0,0, u.cross(v)[2]]])\n",
    "R = CoordSys3D('R')\n",
    "gradient(deform(p))\n",
    "\n",
    "\n"
   ]
  },
  {
   "cell_type": "code",
   "execution_count": 236,
   "metadata": {},
   "outputs": [
    {
     "data": {
      "text/latex": [
       "$\\displaystyle \\left[\\begin{matrix}\\frac{\\left(b + r\\right)^{2} \\cos{\\left(\\frac{a}{r} \\right)}}{r^{2}}\\\\\\frac{\\left(b + r\\right) \\sin{\\left(\\frac{a}{r} \\right)}}{r}\\\\0\\end{matrix}\\right]$"
      ],
      "text/plain": [
       "Matrix([\n",
       "[(b + r)**2*cos(a/r)/r**2],\n",
       "[      (b + r)*sin(a/r)/r],\n",
       "[                       0]])"
      ]
     },
     "execution_count": 236,
     "metadata": {},
     "output_type": "execute_result"
    }
   ],
   "source": [
    "from sympy import * \n",
    "\n",
    "r, l, a, b = symbols('r, l, a, b')\n",
    "\n",
    "def deform(p):\n",
    "    x = Matrix([[(p[1]+r)*sin(p[0]/r)],\n",
    "                [p[1]-(p[1]+r)*(1-cos(p[0]/r))],\n",
    "                [p[2]]])\n",
    "    \n",
    "    return x\n",
    "\n",
    "def deform_grad(point):\n",
    "    p1, p2, p3 = symbols('p1, p2, p3')\n",
    "    p = Matrix([[p1, p2, p3]])\n",
    "    x = deform(p)\n",
    "    F = Matrix([[diff(x[0], p[0]), diff(x[0], p[1]), diff(x[0], p[2])],\n",
    "                [diff(x[1], p[0]), diff(x[1], p[1]), diff(x[1], p[2])],\n",
    "                [diff(x[2], p[0]), diff(x[2], p[1]), diff(x[2], p[2])]])\n",
    "    return F.subs({p[0]:point[0], p[1]:point[1], p[2]:point[2]})\n",
    "    return F\n",
    " \n",
    "\n",
    "\n",
    "def norm(m):\n",
    "    return sqrt(m.dot(m))\n",
    "\n",
    "p1 = Matrix([[a, b, c]])\n",
    "p2 = Matrix([[l, 0, 0]])\n",
    "p3 = Matrix([[l, -h/2, l]])\n",
    "F = deform_grad(p1)\n",
    "\n",
    "\n",
    "n = Matrix([[1],\n",
    "            [0],\n",
    "            [0]])\n",
    "\n",
    "def nanson(F, n):\n",
    "    return (F.det())*F.T*n\n",
    "\n",
    "nprime = nanson(F,n)\n",
    "\n",
    "theta = n.dot(nprime)/(norm(nprime))\n",
    "norm(simplify(nprime))\n",
    "\n",
    "simplify(nprime)"
   ]
  },
  {
   "cell_type": "code",
   "execution_count": 251,
   "metadata": {},
   "outputs": [
    {
     "data": {
      "text/latex": [
       "$\\displaystyle \\left[\\begin{matrix}\\cos{\\left(\\frac{l}{r} \\right)} - 1 & 0 & 0\\\\0 & \\cos{\\left(\\frac{l}{r} \\right)} - 1 & 0\\\\0 & 0 & 0\\end{matrix}\\right]$"
      ],
      "text/plain": [
       "Matrix([\n",
       "[cos(l/r) - 1,            0, 0],\n",
       "[           0, cos(l/r) - 1, 0],\n",
       "[           0,            0, 0]])"
      ]
     },
     "execution_count": 251,
     "metadata": {},
     "output_type": "execute_result"
    }
   ],
   "source": [
    "from sympy import * \n",
    "\n",
    "r, l, a, b, c, h = symbols('r, l, a, b, c, h')\n",
    "\n",
    "def deform(p):\n",
    "    x = Matrix([[(p[1]+r)*sin(p[0]/r)],\n",
    "                [p[1]-(p[1]+r)*(1-cos(p[0]/r))],\n",
    "                [p[2]]])\n",
    "    \n",
    "    return x\n",
    "\n",
    "def deform_grad(point):\n",
    "    p1, p2, p3 = symbols('p1, p2, p3')\n",
    "    p = Matrix([[p1, p2, p3]])\n",
    "    x = deform(p)\n",
    "    F = Matrix([[diff(x[0], p[0]), diff(x[0], p[1]), diff(x[0], p[2])],\n",
    "                [diff(x[1], p[0]), diff(x[1], p[1]), diff(x[1], p[2])],\n",
    "                [diff(x[2], p[0]), diff(x[2], p[1]), diff(x[2], p[2])]])\n",
    "    return F.subs({p[0]:point[0], p[1]:point[1], p[2]:point[2]}) \n",
    "\n",
    "\n",
    "def norm(m):\n",
    "    return sqrt(m.dot(m))\n",
    "\n",
    "p = Matrix([[a, b, c]])\n",
    "F = deform_grad(p)\n",
    "F\n",
    "x = deform(p)\n",
    "\n",
    "n = Matrix([[1],\n",
    "            [0],\n",
    "            [0]])\n",
    "\n",
    "def nanson(F, n):\n",
    "    return (F.det())*F.T*n\n",
    "\n",
    "simplify(nanson(F,n))\n",
    "\n",
    "def lag_strain(F):\n",
    "    I = Matrix([[1,0,0],\n",
    "                [0,1,0],\n",
    "                [0,0,1]])\n",
    "    return (F.T*F-I)/2\n",
    "\n",
    "def displacement(point, mapping):\n",
    "    return mapping-point.T\n",
    "\n",
    "def displacement_grad(point):\n",
    "    p1, p2, p3 = symbols('p1, p2, p3')\n",
    "    p = Matrix([[p1, p2, p3]])\n",
    "    x = displacement(p, deform(p))\n",
    "    F = Matrix([[diff(x[0], p[0]), diff(x[0], p[1]), diff(x[0], p[2])],\n",
    "                [diff(x[1], p[0]), diff(x[1], p[1]), diff(x[1], p[2])],\n",
    "                [diff(x[2], p[0]), diff(x[2], p[1]), diff(x[2], p[2])]])\n",
    "    return F.subs({p[0]:point[0], p[1]:point[1], p[2]:point[2]}) \n",
    "\n",
    "def inf_strain(point):\n",
    "    return (displacement_grad(point)+displacement_grad(point).T)/2\n",
    "\n",
    "mid_plane = Matrix([[l,0,l]])\n",
    "mid_planeF = deform_grad(mid_plane)\n",
    "\n",
    "simplify(inf_strain(mid_plane)).norm()\n",
    "# simplify(lag_strain(mid_planeF))\n",
    "\n",
    "simplify(lag_strain(mid_planeF))\n",
    "\n",
    "deform(mid_plane)-(mid_plane).T\n",
    "u = displacement_grad(mid_plane)\n",
    "inf_strain(mid_plane)"
   ]
  },
  {
   "cell_type": "code",
   "execution_count": null,
   "metadata": {},
   "outputs": [],
   "source": []
  }
 ],
 "metadata": {
  "kernelspec": {
   "display_name": ".venv",
   "language": "python",
   "name": "python3"
  },
  "language_info": {
   "codemirror_mode": {
    "name": "ipython",
    "version": 3
   },
   "file_extension": ".py",
   "mimetype": "text/x-python",
   "name": "python",
   "nbconvert_exporter": "python",
   "pygments_lexer": "ipython3",
   "version": "3.9.6"
  }
 },
 "nbformat": 4,
 "nbformat_minor": 2
}
