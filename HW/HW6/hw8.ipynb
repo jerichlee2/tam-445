{
 "cells": [
  {
   "cell_type": "code",
   "execution_count": 2,
   "metadata": {},
   "outputs": [
    {
     "ename": "NameError",
     "evalue": "name 'h' is not defined",
     "output_type": "error",
     "traceback": [
      "\u001b[0;31m---------------------------------------------------------------------------\u001b[0m",
      "\u001b[0;31mNameError\u001b[0m                                 Traceback (most recent call last)",
      "Cell \u001b[0;32mIn[2], line 28\u001b[0m\n\u001b[1;32m     26\u001b[0m p1 \u001b[38;5;241m=\u001b[39m Matrix([[a, b, c]])\n\u001b[1;32m     27\u001b[0m p2 \u001b[38;5;241m=\u001b[39m Matrix([[l, \u001b[38;5;241m0\u001b[39m, \u001b[38;5;241m0\u001b[39m]])\n\u001b[0;32m---> 28\u001b[0m p3 \u001b[38;5;241m=\u001b[39m Matrix([[l, \u001b[38;5;241m-\u001b[39m\u001b[43mh\u001b[49m\u001b[38;5;241m/\u001b[39m\u001b[38;5;241m2\u001b[39m, l]])\n\u001b[1;32m     29\u001b[0m F \u001b[38;5;241m=\u001b[39m deform_grad(p1)\n\u001b[1;32m     32\u001b[0m n \u001b[38;5;241m=\u001b[39m Matrix([[\u001b[38;5;241m1\u001b[39m],\n\u001b[1;32m     33\u001b[0m             [\u001b[38;5;241m0\u001b[39m],\n\u001b[1;32m     34\u001b[0m             [\u001b[38;5;241m0\u001b[39m]])\n",
      "\u001b[0;31mNameError\u001b[0m: name 'h' is not defined"
     ]
    }
   ],
   "source": [
    "from sympy import * \n",
    "\n",
    "r, l, a, b, x3, c, t = symbols('r, l, a, b, x3, c, t')\n",
    "\n",
    "def deform(p):\n",
    "    x = Matrix([[exp(x3-c*t)*cos(w*t)],\n",
    "                [exp(x3-c*t)*sin(w*t)],\n",
    "                [c]])\n",
    "    \n",
    "    return x\n",
    "\n",
    "def deform_grad(point):\n",
    "    p1, p2, p3 = symbols('p1, p2, p3')\n",
    "    p = Matrix([[p1, p2, p3]])\n",
    "    x = deform(p)\n",
    "    F = Matrix([[diff(x[0], p[0]), diff(x[0], p[1]), diff(x[0], p[2])],\n",
    "                [diff(x[1], p[0]), diff(x[1], p[1]), diff(x[1], p[2])],\n",
    "                [diff(x[2], p[0]), diff(x[2], p[1]), diff(x[2], p[2])]])\n",
    "    return F\n",
    " \n",
    "\n",
    "\n",
    "def norm(m):\n",
    "    return sqrt(m.dot(m))\n",
    "\n",
    "p1 = Matrix([[a, b, c]])\n",
    "p2 = Matrix([[l, 0, 0]])\n",
    "p3 = Matrix([[l, -h/2, l]])\n",
    "F = deform_grad(p1)\n",
    "\n",
    "\n",
    "n = Matrix([[1],\n",
    "            [0],\n",
    "            [0]])\n",
    "\n",
    "def nanson(F, n):\n",
    "    return (F.det())*F.T*n\n",
    "\n",
    "nprime = nanson(F,n)\n",
    "\n",
    "theta = n.dot(nprime)/(norm(nprime))\n",
    "norm(simplify(nprime))\n",
    "\n",
    "simplify(nprime)"
   ]
  },
  {
   "cell_type": "code",
   "execution_count": null,
   "metadata": {},
   "outputs": [],
   "source": []
  }
 ],
 "metadata": {
  "kernelspec": {
   "display_name": ".venv",
   "language": "python",
   "name": "python3"
  },
  "language_info": {
   "codemirror_mode": {
    "name": "ipython",
    "version": 3
   },
   "file_extension": ".py",
   "mimetype": "text/x-python",
   "name": "python",
   "nbconvert_exporter": "python",
   "pygments_lexer": "ipython3",
   "version": "3.9.6"
  }
 },
 "nbformat": 4,
 "nbformat_minor": 2
}
