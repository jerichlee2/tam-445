{
 "cells": [
  {
   "cell_type": "code",
   "execution_count": 13,
   "metadata": {},
   "outputs": [
    {
     "data": {
      "image/png": "[encoded data removed]",
      "text/latex": [
       "$\\displaystyle \\left[\\begin{matrix}- p & 1.0 \\mu \\dot{\\gamma} & 0\\\\1.0 \\mu \\dot{\\gamma} & - p & 0\\\\0 & 0 & - p\\end{matrix}\\right]$"
      ],
      "text/plain": [
       "⎡  -p     1.0⋅μ⋅γ̇  0 ⎤\n",
       "⎢                    ⎥\n",
       "⎢1.0⋅μ⋅γ̇    -p     0 ⎥\n",
       "⎢                    ⎥\n",
       "⎣   0        0     -p⎦"
      ]
     },
     "execution_count": 13,
     "metadata": {},
     "output_type": "execute_result"
    }
   ],
   "source": [
    "from sympy import *\n",
    "from sympy.physics.mechanics import *\n",
    "mechanics_printing(pretty_print=True)\n",
    "p, mu, t = symbols('p, mu, t')\n",
    "x1, x2, x3 = symbols('x1, x2, x3')\n",
    "\n",
    "\n",
    "gamma = symbols('gamma', cls=Function)\n",
    "\n",
    "F = Matrix([[1, gamma(t), 0],\n",
    "            [0, 1, 0,],\n",
    "            [0, 0, 1]])\n",
    "\n",
    "B = F*F.T\n",
    "\n",
    "T = eye(3)*-p+mu*mu*B\n",
    "\n",
    "\n",
    "def deform():\n",
    "    x = Matrix([[x2*diff(gamma(t), t), 0, 0]]).T\n",
    "    \n",
    "    return x\n",
    "\n",
    "def deform_grad():\n",
    "    p = Matrix([[x1, x2, x3]])\n",
    "    x = deform()\n",
    "    F = Matrix([[diff(x[0], p[0]), diff(x[0], p[1]), diff(x[0], p[2])],\n",
    "                [diff(x[1], p[0]), diff(x[1], p[1]), diff(x[1], p[2])],\n",
    "                [diff(x[2], p[0]), diff(x[2], p[1]), diff(x[2], p[2])]])\n",
    "    return F\n",
    "\n",
    "gradvs = deform_grad()\n",
    "Ds = .5*(gradvs+gradvs.T)\n",
    "\n",
    "nfT = -p*eye(3)+2*mu*Ds\n",
    "nfT\n"
   ]
  },
  {
   "cell_type": "code",
   "execution_count": null,
   "metadata": {},
   "outputs": [],
   "source": []
  },
  {
   "cell_type": "code",
   "execution_count": null,
   "metadata": {},
   "outputs": [],
   "source": []
  }
 ],
 "metadata": {
  "kernelspec": {
   "display_name": ".venv",
   "language": "python",
   "name": "python3"
  },
  "language_info": {
   "codemirror_mode": {
    "name": "ipython",
    "version": 3
   },
   "file_extension": ".py",
   "mimetype": "text/x-python",
   "name": "python",
   "nbconvert_exporter": "python",
   "pygments_lexer": "ipython3",
   "version": "3.9.6"
  }
 },
 "nbformat": 4,
 "nbformat_minor": 2
}
