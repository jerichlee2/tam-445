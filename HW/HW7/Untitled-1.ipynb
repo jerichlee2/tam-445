{
 "cells": [
  {
   "cell_type": "code",
   "execution_count": 7,
   "metadata": {},
   "outputs": [
    {
     "data": {
      "text/latex": [
       "$\\displaystyle - c e^{- 2 c t + 2 x_{3}}$"
      ],
      "text/plain": [
       "-c*exp(-2*c*t + 2*x3)"
      ]
     },
     "execution_count": 7,
     "metadata": {},
     "output_type": "execute_result"
    }
   ],
   "source": [
    "from sympy import *\n",
    "\n",
    "x3, t, c, w = symbols('x3, t, c, w')\n",
    "\n",
    "v = Matrix([[exp(x3-c*t)*cos(w*t)],[exp(x3-c*t)*sin(w*t)], [c]])\n",
    "a = diff(v, t)\n",
    "\n",
    "simplify(a.dot(v))"
   ]
  },
  {
   "cell_type": "code",
   "execution_count": null,
   "metadata": {},
   "outputs": [],
   "source": []
  }
 ],
 "metadata": {
  "kernelspec": {
   "display_name": ".venv",
   "language": "python",
   "name": "python3"
  },
  "language_info": {
   "codemirror_mode": {
    "name": "ipython",
    "version": 3
   },
   "file_extension": ".py",
   "mimetype": "text/x-python",
   "name": "python",
   "nbconvert_exporter": "python",
   "pygments_lexer": "ipython3",
   "version": "3.9.6"
  }
 },
 "nbformat": 4,
 "nbformat_minor": 2
}
