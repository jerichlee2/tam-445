{
 "cells": [
  {
   "cell_type": "code",
   "execution_count": 5,
   "metadata": {},
   "outputs": [
    {
     "data": {
      "text/plain": [
       "[(-h/(3*a*alpha),\n",
       "  2,\n",
       "  [Matrix([\n",
       "   [0],\n",
       "   [1],\n",
       "   [0]]),\n",
       "   Matrix([\n",
       "   [0],\n",
       "   [0],\n",
       "   [1]])]),\n",
       " (2*h/(3*a*alpha),\n",
       "  1,\n",
       "  [Matrix([\n",
       "   [1],\n",
       "   [0],\n",
       "   [0]])])]"
      ]
     },
     "execution_count": 5,
     "metadata": {},
     "output_type": "execute_result"
    }
   ],
   "source": [
    "from sympy import *\n",
    "\n",
    "h, a, alpha, ao = symbols('h, a, alpha, ao')\n",
    "\n",
    "T = Matrix([[(h/a)*alpha, 0, 0], [0, 0, 0], [0, 0, 0]])\n",
    "F = Matrix([[alpha, 0, 0], [0, 1/sqrt(alpha), 0], [0, 0, 1/sqrt(alpha)]])\n",
    "\n",
    "P = T*F.inv()\n",
    "S = F.inv()*P\n",
    "I = eye(3)\n",
    "\n",
    "p = -(1/3)*trace(S)\n",
    "s = nsimplify(S+p*I)\n",
    "\n",
    "\n",
    "s.eigenvects()\n"
   ]
  },
  {
   "cell_type": "code",
   "execution_count": null,
   "metadata": {},
   "outputs": [],
   "source": []
  }
 ],
 "metadata": {
  "kernelspec": {
   "display_name": ".venv",
   "language": "python",
   "name": "python3"
  },
  "language_info": {
   "codemirror_mode": {
    "name": "ipython",
    "version": 3
   },
   "file_extension": ".py",
   "mimetype": "text/x-python",
   "name": "python",
   "nbconvert_exporter": "python",
   "pygments_lexer": "ipython3",
   "version": "3.9.6"
  }
 },
 "nbformat": 4,
 "nbformat_minor": 2
}
